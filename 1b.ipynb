{
  "nbformat": 4,
  "nbformat_minor": 0,
  "metadata": {
    "colab": {
      "provenance": []
    },
    "kernelspec": {
      "name": "python3",
      "display_name": "Python 3"
    },
    "language_info": {
      "name": "python"
    }
  },
  "cells": [
    {
      "cell_type": "markdown",
      "source": [
        "# Code template for hand-in on reconstruction attacks.\n",
        "\n",
        "Advanced Topics in Machine Learning, U. Copenhagen, fall 2024\n",
        "\n",
        "Created by Rasmus Pagh with minor edits by Thomas Christensen\n",
        "\n",
        "Queries on a hidden dataset x from {-1,+1}^100 can be made via the query method below\n",
        "which calls a web API that allows dot product queries with vectors in {-1,+1}^100.\n",
        "To protect data, Laplace noise is added to responses. Using the techniques you have\n",
        "seen in the lecture it is possible to partially reconstruct the dataset using 200 queries.\n",
        "To make sure that you get a unique challenge, choose any unique string as your challenge\n",
        "identifier. The web API will keep track of the number of queries made for each identifier."
      ],
      "metadata": {
        "id": "0gptEv_UkLPf"
      }
    },
    {
      "cell_type": "markdown",
      "source": [
        "# Support function for querying the web API"
      ],
      "metadata": {
        "id": "dyLpL0gdnquz"
      }
    },
    {
      "cell_type": "code",
      "source": [
        "import numpy as np\n",
        "import requests as rq\n",
        "import sys\n",
        "np.set_printoptions(threshold=sys.maxsize)\n",
        "# Retrieve answer to challenge for a given query\n",
        "def query(challenge_id, query_vector, submit=False):\n",
        "    # Only alphanumeric challenge_id and vextor entries in {-1,+1} are allowed:\n",
        "    assert(challenge_id.isalnum())\n",
        "    assert(np.max(np.minimum(np.abs(query_vector-1),np.abs(query_vector+1)))==0)\n",
        "\n",
        "    # if query array is 1d, make it 2d\n",
        "    if query_vector.ndim == 1:\n",
        "        query_vector = query_vector.reshape(1,-1)\n",
        "\n",
        "    payload = { 'challengeid': challenge_id, 'submit': submit,\n",
        "                'query': str(query_vector.tolist()) }\n",
        "    response = rq.post(\"https://baconbreaker.pythonanywhere.com/query\", data = payload).json()\n",
        "    if submit == False:\n",
        "        return np.array(eval(response['result']))\n",
        "    else:\n",
        "        return response['result']"
      ],
      "metadata": {
        "id": "L1Mb8xGZkTPO"
      },
      "execution_count": null,
      "outputs": []
    },
    {
      "cell_type": "markdown",
      "source": [
        "# Making random queries to the API"
      ],
      "metadata": {
        "id": "mgh9MtPmnyEl"
      }
    },
    {
      "cell_type": "code",
      "execution_count": null,
      "metadata": {
        "id": "rACAhWmE9zkq",
        "colab": {
          "base_uri": "https://localhost:8080/"
        },
        "outputId": "be8b7336-7075-4846-ab0d-cb13daaa97e1"
      },
      "outputs": [
        {
          "output_type": "stream",
          "name": "stdout",
          "text": [
            "[ -8.  -1.  14. -22. -12. -11. -17.  30.  13.  -3.  14.   7.  -7.  -3.\n",
            " -20.   2. -39.  -0. -15. -14. -42.   4.  -3.  20.   6.  -3. -13. -20.\n",
            " -14.   1.   5.  -2.  -1.   5.  14. -15.   6. -12. -45.  -9.   9.  21.\n",
            " -54.  -8.   1. -24.   4. -33.  10.  -8. -11. -11.   1.   7. -10. -17.\n",
            " -22.  31.  24.  13. -19.  -1.  -6.   2.  -0.  12.  -2. -22.  -4.  -8.\n",
            " -10. -30.  20.  24. -15.  -9.  -0.  11.  16.  10.  24.  13. -16.   8.\n",
            "  -9.  30.  -4.   2.  -8.   1.   8. -10.  -2.   4.  10.  26.   9.   7.\n",
            "  43. -14. -15.  17. -26. -12. -12.  18. -13.  25.   7. -16.   6.  36.\n",
            "   6. -12.  15. -18.  -1.   6. -14. -29. -15.  -4.   7.  17.   9. -14.\n",
            "   7.  -4.  46.   9.   2.  -5.  -0.  -9.  15. -33.  -9.  -3. -35.  -5.\n",
            " -19.  26.   6.   5. -16. -15.  25.  -1. -12. -29.  30.  -9.  39.   6.\n",
            "  -2.   3. -10.  -1. -12.  16.  22.   7.   2. -29.   9.  -2. -18. -20.\n",
            "  22.  11.  -2.   1. -11.   8.  -7. -13. -10.  24.  33. -10.   3.  -9.\n",
            "  67.  -9. -11.   6.  11.   9. -41.   2.  10.  -8.   5.   2. -34. -16.\n",
            "  15.  16.  -4. -45.]\n"
          ]
        }
      ],
      "source": [
        "challenge_id = 'belongfossildecrease' # identifier for hidden dataset\n",
        "n = 100 # number of entries in hidden dataset\n",
        "num_queries = 2*n # number of queries to be asked\n",
        "\n",
        "queries = np.random.choice([-1,+1], size=(num_queries,n)) # Set of random queries\n",
        "query_results = query(challenge_id, queries)\n",
        "\n",
        "# Check the results\n",
        "if query_results is None or len(query_results) != num_queries:\n",
        "    raise ValueError(\"Query results are invalid or incomplete.\")\n",
        "\n",
        "print(query_results)"
      ]
    },
    {
      "cell_type": "markdown",
      "source": [
        "# Baseline reconstruction attack: Guess equals the best query\n",
        "\n",
        "Copy the notebook and replace with your attack. The first submission for a given challenge_id is stored on the server and on the leaderboard: http://baconbreaker.pythonanywhere.com/leaderboard/?n=100"
      ],
      "metadata": {
        "id": "uiUoCqxtknZj"
      }
    },
    {
      "cell_type": "markdown",
      "source": [
        "**Tip**: to solve a linear program you can use the following import:\n",
        "\n",
        "```\n",
        "from scipy.optimize import linprog\n",
        "```\n",
        "\n"
      ],
      "metadata": {
        "id": "wBzhULS8lfJf"
      }
    },
    {
      "cell_type": "code",
      "source": [
        "from scipy.optimize import linprog\n",
        "\n",
        "# Decision variables: x (the dataset) and e (absolute errors)\n",
        "c = np.concatenate([np.zeros(n), np.ones(num_queries)])\n",
        "\n",
        "# Constraints:\n",
        "A_ub = np.block([\n",
        "    [queries, -np.eye(num_queries)], # Handles upper bound constraint\n",
        "    [-queries, -np.eye(num_queries)],  # Handles lower bound constraint\n",
        "    [np.eye(n), np.zeros((n, num_queries))], # Enforces -1 <= x_j\n",
        "    [-np.eye(n), np.zeros((n, num_queries))] # Enforces x_j <= 1\n",
        "])\n",
        "\n",
        "b_ub = np.concatenate([\n",
        "    query_results,\n",
        "    -query_results,\n",
        "    np.ones(n),\n",
        "    np.ones(n)\n",
        "])\n",
        "\n",
        "# Bounds for x in [-1, 1]\n",
        "bounds = [(-1, 1)] * n + [(0, None)] * num_queries\n",
        "\n",
        "# Solving the linear program\n",
        "result = linprog(c, A_ub=A_ub, b_ub=b_ub, bounds=bounds)\n",
        "\n",
        "# Extracting the reconstructed dataset\n",
        "x_reconstructed = np.sign(result.x[:n])\n",
        "\n",
        "# Submitting the result\n",
        "submission_result = query(challenge_id, x_reconstructed, submit=True)\n",
        "# Printing the submission result\n",
        "print(f\"Reconstruction attack achieves fraction {(1 + submission_result / n) / 2} correct values\")"
      ],
      "metadata": {
        "colab": {
          "base_uri": "https://localhost:8080/"
        },
        "id": "74Vl0lDZAxr6",
        "outputId": "c4cf8fd3-d0dc-4555-e772-6fba3657078d"
      },
      "execution_count": null,
      "outputs": [
        {
          "output_type": "stream",
          "name": "stdout",
          "text": [
            "Reconstruction attack achieves fraction 0.81 correct values\n"
          ]
        }
      ]
    },
    {
      "cell_type": "markdown",
      "source": [],
      "metadata": {
        "id": "Q3U5Hnp1FIZ1"
      }
    }
  ]
}