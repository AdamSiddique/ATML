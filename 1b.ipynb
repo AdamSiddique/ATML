{
  "nbformat": 4,
  "nbformat_minor": 0,
  "metadata": {
    "colab": {
      "provenance": []
    },
    "kernelspec": {
      "name": "python3",
      "display_name": "Python 3"
    },
    "language_info": {
      "name": "python"
    }
  },
  "cells": [
    {
      "cell_type": "markdown",
      "source": [
        "# Code template for hand-in on reconstruction attacks.\n",
        "\n",
        "Advanced Topics in Machine Learning, U. Copenhagen, fall 2024\n",
        "\n",
        "Created by Rasmus Pagh with minor edits by Thomas Christensen\n",
        "\n",
        "Queries on a hidden dataset x from {-1,+1}^100 can be made via the query method below\n",
        "which calls a web API that allows dot product queries with vectors in {-1,+1}^100.\n",
        "To protect data, Laplace noise is added to responses. Using the techniques you have\n",
        "seen in the lecture it is possible to partially reconstruct the dataset using 200 queries.\n",
        "To make sure that you get a unique challenge, choose any unique string as your challenge\n",
        "identifier. The web API will keep track of the number of queries made for each identifier."
      ],
      "metadata": {
        "id": "0gptEv_UkLPf"
      }
    },
    {
      "cell_type": "markdown",
      "source": [
        "# Support function for querying the web API"
      ],
      "metadata": {
        "id": "dyLpL0gdnquz"
      }
    },
    {
      "cell_type": "code",
      "source": [
        "import numpy as np\n",
        "import requests as rq\n",
        "import sys\n",
        "np.set_printoptions(threshold=sys.maxsize)\n",
        "# Retrieve answer to challenge for a given query\n",
        "def query(challenge_id, query_vector, submit=False):\n",
        "    # Only alphanumeric challenge_id and vextor entries in {-1,+1} are allowed:\n",
        "    assert(challenge_id.isalnum())\n",
        "    assert(np.max(np.minimum(np.abs(query_vector-1),np.abs(query_vector+1)))==0)\n",
        "\n",
        "    # if query array is 1d, make it 2d\n",
        "    if query_vector.ndim == 1:\n",
        "        query_vector = query_vector.reshape(1,-1)\n",
        "\n",
        "    payload = { 'challengeid': challenge_id, 'submit': submit,\n",
        "                'query': str(query_vector.tolist()) }\n",
        "    response = rq.post(\"https://baconbreaker.pythonanywhere.com/query\", data = payload).json()\n",
        "    if submit == False:\n",
        "        return np.array(eval(response['result']))\n",
        "    else:\n",
        "        return response['result']"
      ],
      "metadata": {
        "id": "L1Mb8xGZkTPO"
      },
      "execution_count": 66,
      "outputs": []
    },
    {
      "cell_type": "markdown",
      "source": [
        "# Making random queries to the API"
      ],
      "metadata": {
        "id": "mgh9MtPmnyEl"
      }
    },
    {
      "cell_type": "code",
      "execution_count": 100,
      "metadata": {
        "id": "rACAhWmE9zkq",
        "colab": {
          "base_uri": "https://localhost:8080/"
        },
        "outputId": "157266a5-9ece-4033-de66-d3284af4ac8e"
      },
      "outputs": [
        {
          "output_type": "stream",
          "name": "stdout",
          "text": [
            "[  4. -26.  -9. -19.  -9.  15.  -3.  17.  -8. -12.   5.  -7. -17.   3.\n",
            " -13.   2. -14.  -8.  -6.  -3.  -0. -20.   3.   2.  10. -14.  20.  13.\n",
            "   1.  -2. -17.  -4.  14.   6.  15.   2.  32.  16.  21.   2. -29.   2.\n",
            " -26.   4.   4. -25.  20.   1. -13.  18.   3. -42.  21. -21.  11.   6.\n",
            " -19.  16.  22. -19.  -1.   1.  -6.   8. -36.  -7. -10.   6.  10.  -3.\n",
            "  -3.   9.  16.  11.   1.  -2.  -3.   6. -16.   2.  10.   2.  -2.  13.\n",
            " -13.  56. -11.  -1.  -2.  13. -12.   3. -15.   7. -28.  12.  19.   2.\n",
            "  -8. -19.  25. -22.  14.  -8.  -5.  12.   2.  -8.   3.   2.  31. -25.\n",
            " -15.  13.   2.  18.  -5. -14.   5. -16.  -2.   1.  15.   1.   7. -30.\n",
            "  -4.  12.  18.  14.   1.  57. -11.   4. -11.  -4.   7. -43.  -7.  15.\n",
            " -19.  20.   8.  22. -25.  -7.  -8. -28. -12.   0. -15.  -0.  -8.  -4.\n",
            " -21. -41.  -6. -85.  11. -24.  10.  -8.   8.   7.  -6. -14.  39. -23.\n",
            " -11.   7.  25.  14. -14.  -5.  -9.  17.  22.   6. -28.  28.   9.   6.\n",
            "  -9.   1. -10.   8.  19.   4.  -4.  -8.  11.  -4.  -9. -42. -18.  -8.\n",
            "   6.   9.  21.   6.]\n"
          ]
        }
      ],
      "source": [
        "challenge_id = 'belongfossildecrease' # identifier for hidden dataset\n",
        "n = 100 # number of entries in hidden dataset\n",
        "num_queries = 2*n # number of queries to be asked\n",
        "\n",
        "queries = np.random.choice([-1,+1], size=(num_queries,n)) # Set of random queries\n",
        "query_results = query(challenge_id, queries)\n",
        "\n",
        "# Check the results\n",
        "if query_results is None or len(query_results) != num_queries:\n",
        "    raise ValueError(\"Query results are invalid or incomplete.\")\n",
        "\n",
        "print(query_results)"
      ]
    },
    {
      "cell_type": "markdown",
      "source": [
        "# Baseline reconstruction attack: Guess equals the best query\n",
        "\n",
        "Copy the notebook and replace with your attack. The first submission for a given challenge_id is stored on the server and on the leaderboard: http://baconbreaker.pythonanywhere.com/leaderboard/?n=100"
      ],
      "metadata": {
        "id": "uiUoCqxtknZj"
      }
    },
    {
      "cell_type": "markdown",
      "source": [
        "**Tip**: to solve a linear program you can use the following import:\n",
        "\n",
        "```\n",
        "from scipy.optimize import linprog\n",
        "```\n",
        "\n"
      ],
      "metadata": {
        "id": "wBzhULS8lfJf"
      }
    },
    {
      "cell_type": "code",
      "source": [
        "from scipy.optimize import linprog\n",
        "\n",
        "# Decision variables: x (the dataset) and e (absolute errors)\n",
        "c = np.concatenate([np.zeros(n), np.ones(num_queries)])\n",
        "\n",
        "# Constraints:\n",
        "A_ub = np.block([\n",
        "    [queries, -np.eye(num_queries)], # Handles upper bound constraint\n",
        "    [-queries, -np.eye(num_queries)],  # Handles lower bound constraint\n",
        "    [np.eye(n), np.zeros((n, num_queries))], # Enforces -1 <= x_j\n",
        "    [-np.eye(n), np.zeros((n, num_queries))] # Enforces x_j <= 1\n",
        "])\n",
        "\n",
        "b_ub = np.concatenate([\n",
        "    query_results,\n",
        "    -query_results,\n",
        "    np.ones(n),\n",
        "    np.ones(n)\n",
        "])\n",
        "\n",
        "# Bounds for x in [-1, 1]\n",
        "bounds = [(-1, 1)] * n + [(0, None)] * num_queries\n",
        "\n",
        "# Solving the linear program\n",
        "result = linprog(c, A_ub=A_ub, b_ub=b_ub, bounds=bounds)\n",
        "\n",
        "# Extracting the reconstructed dataset\n",
        "x_reconstructed = np.sign(result.x[:n])\n",
        "\n",
        "# Submitting the result\n",
        "submission_result = query(challenge_id, x_reconstructed, submit=True)\n",
        "# Printing the submission result\n",
        "print(f\"Reconstruction attack achieves fraction {(1 + submission_result / n) / 2} correct values\")"
      ],
      "metadata": {
        "colab": {
          "base_uri": "https://localhost:8080/"
        },
        "id": "74Vl0lDZAxr6",
        "outputId": "08609291-0ce2-4e8d-98d9-bc05ec9217bb"
      },
      "execution_count": 106,
      "outputs": [
        {
          "output_type": "stream",
          "name": "stdout",
          "text": [
            "Reconstruction attack achieves fraction 0.8300000000000001 correct values\n"
          ]
        }
      ]
    },
    {
      "cell_type": "markdown",
      "source": [],
      "metadata": {
        "id": "Q3U5Hnp1FIZ1"
      }
    }
  ]
}